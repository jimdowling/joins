{
 "cells": [
  {
   "cell_type": "code",
   "execution_count": 1,
   "metadata": {},
   "outputs": [
    {
     "name": "stdout",
     "output_type": "stream",
     "text": [
      "Starting Spark application\n"
     ]
    },
    {
     "data": {
      "text/html": [
       "<table>\n",
       "<tr><th>ID</th><th>YARN Application ID</th><th>Kind</th><th>State</th><th>Spark UI</th><th>Driver log</th></tr><tr><td>9</td><td>application_1612348338568_0012</td><td>pyspark</td><td>idle</td><td><a target=\"_blank\" href=\"http://resourcemanager.service.consul:8088/proxy/application_1612348338568_0012/\">Link</a></td><td><a target=\"_blank\" href=\"http://hopsworksjimeurope-worker-10.internal.cloudapp.net:8042/node/containerlogs/container_e02_1612348338568_0012_01_000001/demo_ml_meb10179__meb10179\">Link</a></td></tr></table>"
      ],
      "text/plain": [
       "<IPython.core.display.HTML object>"
      ]
     },
     "metadata": {},
     "output_type": "display_data"
    },
    {
     "name": "stdout",
     "output_type": "stream",
     "text": [
      "SparkSession available as 'spark'.\n"
     ]
    }
   ],
   "source": [
    "from hops import hdfs\n",
    "import datetime\n",
    "from pyspark.sql import DataFrame, Row\n",
    "from pyspark.sql.types import *\n",
    "from pyspark.sql.functions import unix_timestamp, from_unixtime, col\n",
    "import sys\n",
    "\n",
    "#num_rows=100000\n",
    "#num_rows=1000000\n",
    "num_rows=10000000"
   ]
  },
  {
   "cell_type": "code",
   "execution_count": 2,
   "metadata": {},
   "outputs": [
    {
     "name": "stdout",
     "output_type": "stream",
     "text": [
      "+---+----+---+---+---+---+---+--------+--------------------+----------------+\n",
      "| id|  ts| f2| g2| h2| i2| j2|'number'|               'msg'|'another_number'|\n",
      "+---+----+---+---+---+---+---+--------+--------------------+----------------+\n",
      "|  1|1020|  1|  1| h2| i2| j2| 3333333|'some string that...|         9999999|\n",
      "|  1|1040|  1|  1| h2| i2| j2| 3333333|'some string that...|         9999999|\n",
      "|  1|1060|  1|  1| h2| i2| j2| 3333333|'some string that...|         9999999|\n",
      "|  1|1080|  1|  1| h2| i2| j2| 3333333|'some string that...|         9999999|\n",
      "+---+----+---+---+---+---+---+--------+--------------------+----------------+\n",
      "only showing top 4 rows"
     ]
    }
   ],
   "source": [
    "fg2_schema = StructType([\n",
    "  StructField(\"id\", IntegerType(), True),\n",
    "  StructField(\"ts\", IntegerType(), True),  \n",
    "  StructField(\"f2\", IntegerType(), True),\n",
    "  StructField(\"g2\", IntegerType(), True),\n",
    "  StructField(\"h2\", StringType(), True),\n",
    "  StructField(\"i2\", StringType(), True),\n",
    "  StructField(\"j2\", StringType(), True),\n",
    "  StructField(\"'number'\", StringType(), True),\n",
    "  StructField(\"'msg'\", StringType(), True),\n",
    "  StructField(\"'another_number'\", StringType(), True)\n",
    "])\n",
    "\n",
    "fg2=spark.read.csv(hdfs.project_path() + \"Resources/\" + str(num_rows) + \"-20-2-out.csv\", header=True, schema=fg2_schema)\n",
    "fg2=fg2.sort(col(\"id\"),col(\"ts\"))\n",
    "fg2.show(4)"
   ]
  },
  {
   "cell_type": "code",
   "execution_count": 3,
   "metadata": {},
   "outputs": [],
   "source": [
    "from random import seed\n",
    "from random import randint\n",
    "#seed(1)\n",
    "\n",
    "from pyspark.sql.functions import udf\n",
    "@udf(\"int\")\n",
    "def squared_udf(s):\n",
    "    value = randint(0, 10)\n",
    "    return s + value\n",
    "fg2_eng = fg2.withColumn(\"rand\", squared_udf(\"id\"))"
   ]
  },
  {
   "cell_type": "code",
   "execution_count": 4,
   "metadata": {},
   "outputs": [
    {
     "name": "stdout",
     "output_type": "stream",
     "text": [
      "+---+----+---+---+---+---+---+--------+--------------------+----------------+----------+\n",
      "| id|  ts| f2| g2| h2| i2| j2|'number'|               'msg'|'another_number'|id_squared|\n",
      "+---+----+---+---+---+---+---+--------+--------------------+----------------+----------+\n",
      "|  1|1020|  1|  1| h2| i2| j2| 3333333|'some string that...|         9999999|         9|\n",
      "|  1|1040|  1|  1| h2| i2| j2| 3333333|'some string that...|         9999999|         5|\n",
      "|  1|1060|  1|  1| h2| i2| j2| 3333333|'some string that...|         9999999|        10|\n",
      "|  1|1080|  1|  1| h2| i2| j2| 3333333|'some string that...|         9999999|         6|\n",
      "+---+----+---+---+---+---+---+--------+--------------------+----------------+----------+\n",
      "only showing top 4 rows"
     ]
    }
   ],
   "source": [
    "fg2_eng.show(4)"
   ]
  },
  {
   "cell_type": "code",
   "execution_count": 6,
   "metadata": {},
   "outputs": [],
   "source": [
    "#fg2_eng.count()\n",
    "fg2_eng.write.parquet(hdfs.project_path() + \"Resources/f2.parquet\")"
   ]
  },
  {
   "cell_type": "code",
   "execution_count": 9,
   "metadata": {},
   "outputs": [
    {
     "name": "stderr",
     "output_type": "stream",
     "text": [
      "An error was encountered:\n",
      "An error occurred while calling o190.parquet.\n",
      ": org.apache.hadoop.ipc.RemoteException(org.apache.hadoop.ipc.RetriableException): At least one ongoing subtree operation on the descendants of this subtree, e.g., Path: /Projects/demo_ml_meb10179/Resources/id_squared.parquet/_temporary/0/_temporary/attempt_20210203192652_0014_m_000033_1193/ Operation: DELETE_STO NameNodeId: 3\n",
      "\tat org.apache.hadoop.hdfs.server.namenode.FSNamesystem.checkSubTreeLocks(FSNamesystem.java:7774)\n",
      "\tat org.apache.hadoop.hdfs.server.namenode.FSNamesystem.access$7000(FSNamesystem.java:174)\n",
      "\tat org.apache.hadoop.hdfs.server.namenode.FSNamesystem$34.performTask(FSNamesystem.java:7708)\n",
      "\tat io.hops.transaction.handler.TransactionalRequestHandler.execute(TransactionalRequestHandler.java:101)\n",
      "\tat io.hops.transaction.handler.HopsTransactionalRequestHandler.execute(HopsTransactionalRequestHandler.java:50)\n",
      "\tat io.hops.transaction.handler.RequestHandler.handle(RequestHandler.java:68)\n",
      "\tat org.apache.hadoop.hdfs.server.namenode.FSNamesystem.lockSubtreeAndCheckOwnerAndParentPermission(FSNamesystem.java:7737)\n",
      "\tat org.apache.hadoop.hdfs.server.namenode.FSDirDeleteOp.delete(FSDirDeleteOp.java:149)\n",
      "\tat org.apache.hadoop.hdfs.server.namenode.FSNamesystem.delete(FSNamesystem.java:3622)\n",
      "\tat org.apache.hadoop.hdfs.server.namenode.NameNodeRpcServer.delete(NameNodeRpcServer.java:748)\n",
      "\tat org.apache.hadoop.hdfs.protocolPB.ClientNamenodeProtocolServerSideTranslatorPB.delete(ClientNamenodeProtocolServerSideTranslatorPB.java:725)\n",
      "\tat org.apache.hadoop.hdfs.protocol.proto.ClientNamenodeProtocolProtos$ClientNamenodeProtocol$2.callBlockingMethod(ClientNamenodeProtocolProtos.java)\n",
      "\tat org.apache.hadoop.ipc.ProtobufRpcEngine$Server$ProtoBufRpcInvoker.call(ProtobufRpcEngine.java:524)\n",
      "\tat org.apache.hadoop.ipc.RPC$Server.call(RPC.java:1025)\n",
      "\tat org.apache.hadoop.ipc.Server$RpcCall.run(Server.java:868)\n",
      "\tat org.apache.hadoop.ipc.Server$RpcCall.run(Server.java:814)\n",
      "\tat java.security.AccessController.doPrivileged(Native Method)\n",
      "\tat javax.security.auth.Subject.doAs(Subject.java:422)\n",
      "\tat org.apache.hadoop.security.UserGroupInformation.doAs(UserGroupInformation.java:1821)\n",
      "\tat org.apache.hadoop.ipc.Server$Handler.run(Server.java:2900)\n",
      "\n",
      "\tat org.apache.hadoop.ipc.Client.getRpcResponse(Client.java:1523)\n",
      "\tat org.apache.hadoop.ipc.Client.call(Client.java:1469)\n",
      "\tat org.apache.hadoop.ipc.Client.call(Client.java:1379)\n",
      "\tat org.apache.hadoop.ipc.ProtobufRpcEngine$Invoker.invoke(ProtobufRpcEngine.java:228)\n",
      "\tat org.apache.hadoop.ipc.ProtobufRpcEngine$Invoker.invoke(ProtobufRpcEngine.java:116)\n",
      "\tat com.sun.proxy.$Proxy9.delete(Unknown Source)\n",
      "\tat org.apache.hadoop.hdfs.protocolPB.ClientNamenodeProtocolTranslatorPB.delete(ClientNamenodeProtocolTranslatorPB.java:639)\n",
      "\tat sun.reflect.NativeMethodAccessorImpl.invoke0(Native Method)\n",
      "\tat sun.reflect.NativeMethodAccessorImpl.invoke(NativeMethodAccessorImpl.java:62)\n",
      "\tat sun.reflect.DelegatingMethodAccessorImpl.invoke(DelegatingMethodAccessorImpl.java:43)\n",
      "\tat java.lang.reflect.Method.invoke(Method.java:498)\n",
      "\tat org.apache.hadoop.io.retry.RetryInvocationHandler.invokeMethod(RetryInvocationHandler.java:430)\n",
      "\tat org.apache.hadoop.io.retry.RetryInvocationHandler$Call.invokeMethod(RetryInvocationHandler.java:171)\n",
      "\tat org.apache.hadoop.io.retry.RetryInvocationHandler$Call.invoke(RetryInvocationHandler.java:163)\n",
      "\tat org.apache.hadoop.io.retry.RetryInvocationHandler$Call.invokeOnce(RetryInvocationHandler.java:101)\n",
      "\tat org.apache.hadoop.io.retry.RetryInvocationHandler.invoke(RetryInvocationHandler.java:367)\n",
      "\tat com.sun.proxy.$Proxy10.delete(Unknown Source)\n",
      "\tat org.apache.hadoop.hdfs.DFSClient.delete(DFSClient.java:1665)\n",
      "\tat org.apache.hadoop.hdfs.DistributedFileSystem$14.doCall(DistributedFileSystem.java:792)\n",
      "\tat org.apache.hadoop.hdfs.DistributedFileSystem$14.doCall(DistributedFileSystem.java:788)\n",
      "\tat org.apache.hadoop.fs.FileSystemLinkResolver.resolve(FileSystemLinkResolver.java:81)\n",
      "\tat org.apache.hadoop.hdfs.DistributedFileSystem.delete(DistributedFileSystem.java:799)\n",
      "\tat org.apache.hadoop.mapreduce.lib.output.FileOutputCommitter.cleanupJob(FileOutputCommitter.java:521)\n",
      "\tat org.apache.hadoop.mapreduce.lib.output.FileOutputCommitter.abortJob(FileOutputCommitter.java:540)\n",
      "\tat org.apache.spark.internal.io.HadoopMapReduceCommitProtocol.abortJob(HadoopMapReduceCommitProtocol.scala:209)\n",
      "\tat org.apache.spark.sql.execution.datasources.FileFormatWriter$.write(FileFormatWriter.scala:197)\n",
      "\tat org.apache.spark.sql.execution.datasources.InsertIntoHadoopFsRelationCommand.run(InsertIntoHadoopFsRelationCommand.scala:159)\n",
      "\tat org.apache.spark.sql.execution.command.DataWritingCommandExec.sideEffectResult$lzycompute(commands.scala:104)\n",
      "\tat org.apache.spark.sql.execution.command.DataWritingCommandExec.sideEffectResult(commands.scala:102)\n",
      "\tat org.apache.spark.sql.execution.command.DataWritingCommandExec.doExecute(commands.scala:122)\n",
      "\tat org.apache.spark.sql.execution.SparkPlan$$anonfun$execute$1.apply(SparkPlan.scala:131)\n",
      "\tat org.apache.spark.sql.execution.SparkPlan$$anonfun$execute$1.apply(SparkPlan.scala:127)\n",
      "\tat org.apache.spark.sql.execution.SparkPlan$$anonfun$executeQuery$1.apply(SparkPlan.scala:155)\n",
      "\tat org.apache.spark.rdd.RDDOperationScope$.withScope(RDDOperationScope.scala:151)\n",
      "\tat org.apache.spark.sql.execution.SparkPlan.executeQuery(SparkPlan.scala:152)\n",
      "\tat org.apache.spark.sql.execution.SparkPlan.execute(SparkPlan.scala:127)\n",
      "\tat org.apache.spark.sql.execution.QueryExecution.toRdd$lzycompute(QueryExecution.scala:80)\n",
      "\tat org.apache.spark.sql.execution.QueryExecution.toRdd(QueryExecution.scala:80)\n",
      "\tat org.apache.spark.sql.DataFrameWriter$$anonfun$runCommand$1.apply(DataFrameWriter.scala:676)\n",
      "\tat org.apache.spark.sql.DataFrameWriter$$anonfun$runCommand$1.apply(DataFrameWriter.scala:676)\n",
      "\tat org.apache.spark.sql.execution.SQLExecution$$anonfun$withNewExecutionId$1.apply(SQLExecution.scala:78)\n",
      "\tat org.apache.spark.sql.execution.SQLExecution$.withSQLConfPropagated(SQLExecution.scala:125)\n",
      "\tat org.apache.spark.sql.execution.SQLExecution$.withNewExecutionId(SQLExecution.scala:73)\n",
      "\tat org.apache.spark.sql.DataFrameWriter.runCommand(DataFrameWriter.scala:676)\n",
      "\tat org.apache.spark.sql.DataFrameWriter.saveToV1Source(DataFrameWriter.scala:285)\n",
      "\tat org.apache.spark.sql.DataFrameWriter.save(DataFrameWriter.scala:271)\n",
      "\tat org.apache.spark.sql.DataFrameWriter.save(DataFrameWriter.scala:229)\n",
      "\tat org.apache.spark.sql.DataFrameWriter.parquet(DataFrameWriter.scala:566)\n",
      "\tat sun.reflect.NativeMethodAccessorImpl.invoke0(Native Method)\n",
      "\tat sun.reflect.NativeMethodAccessorImpl.invoke(NativeMethodAccessorImpl.java:62)\n",
      "\tat sun.reflect.DelegatingMethodAccessorImpl.invoke(DelegatingMethodAccessorImpl.java:43)\n",
      "\tat java.lang.reflect.Method.invoke(Method.java:498)\n",
      "\tat py4j.reflection.MethodInvoker.invoke(MethodInvoker.java:244)\n",
      "\tat py4j.reflection.ReflectionEngine.invoke(ReflectionEngine.java:357)\n",
      "\tat py4j.Gateway.invoke(Gateway.java:282)\n",
      "\tat py4j.commands.AbstractCommand.invokeMethod(AbstractCommand.java:132)\n",
      "\tat py4j.commands.CallCommand.execute(CallCommand.java:79)\n",
      "\tat py4j.GatewayConnection.run(GatewayConnection.java:238)\n",
      "\tat java.lang.Thread.run(Thread.java:748)\n",
      "\n",
      "Traceback (most recent call last):\n",
      "  File \"/srv/hops/spark/python/lib/pyspark.zip/pyspark/sql/readwriter.py\", line 839, in parquet\n",
      "    self._jwrite.parquet(path)\n",
      "  File \"/srv/hops/spark/python/lib/py4j-0.10.7-src.zip/py4j/java_gateway.py\", line 1257, in __call__\n",
      "    answer, self.gateway_client, self.target_id, self.name)\n",
      "  File \"/srv/hops/spark/python/lib/pyspark.zip/pyspark/sql/utils.py\", line 63, in deco\n",
      "    return f(*a, **kw)\n",
      "  File \"/srv/hops/spark/python/lib/py4j-0.10.7-src.zip/py4j/protocol.py\", line 328, in get_return_value\n",
      "    format(target_id, \".\", name), value)\n",
      "py4j.protocol.Py4JJavaError: An error occurred while calling o190.parquet.\n",
      ": org.apache.hadoop.ipc.RemoteException(org.apache.hadoop.ipc.RetriableException): At least one ongoing subtree operation on the descendants of this subtree, e.g., Path: /Projects/demo_ml_meb10179/Resources/id_squared.parquet/_temporary/0/_temporary/attempt_20210203192652_0014_m_000033_1193/ Operation: DELETE_STO NameNodeId: 3\n",
      "\tat org.apache.hadoop.hdfs.server.namenode.FSNamesystem.checkSubTreeLocks(FSNamesystem.java:7774)\n",
      "\tat org.apache.hadoop.hdfs.server.namenode.FSNamesystem.access$7000(FSNamesystem.java:174)\n",
      "\tat org.apache.hadoop.hdfs.server.namenode.FSNamesystem$34.performTask(FSNamesystem.java:7708)\n",
      "\tat io.hops.transaction.handler.TransactionalRequestHandler.execute(TransactionalRequestHandler.java:101)\n",
      "\tat io.hops.transaction.handler.HopsTransactionalRequestHandler.execute(HopsTransactionalRequestHandler.java:50)\n",
      "\tat io.hops.transaction.handler.RequestHandler.handle(RequestHandler.java:68)\n",
      "\tat org.apache.hadoop.hdfs.server.namenode.FSNamesystem.lockSubtreeAndCheckOwnerAndParentPermission(FSNamesystem.java:7737)\n",
      "\tat org.apache.hadoop.hdfs.server.namenode.FSDirDeleteOp.delete(FSDirDeleteOp.java:149)\n",
      "\tat org.apache.hadoop.hdfs.server.namenode.FSNamesystem.delete(FSNamesystem.java:3622)\n",
      "\tat org.apache.hadoop.hdfs.server.namenode.NameNodeRpcServer.delete(NameNodeRpcServer.java:748)\n",
      "\tat org.apache.hadoop.hdfs.protocolPB.ClientNamenodeProtocolServerSideTranslatorPB.delete(ClientNamenodeProtocolServerSideTranslatorPB.java:725)\n",
      "\tat org.apache.hadoop.hdfs.protocol.proto.ClientNamenodeProtocolProtos$ClientNamenodeProtocol$2.callBlockingMethod(ClientNamenodeProtocolProtos.java)\n",
      "\tat org.apache.hadoop.ipc.ProtobufRpcEngine$Server$ProtoBufRpcInvoker.call(ProtobufRpcEngine.java:524)\n",
      "\tat org.apache.hadoop.ipc.RPC$Server.call(RPC.java:1025)\n",
      "\tat org.apache.hadoop.ipc.Server$RpcCall.run(Server.java:868)\n",
      "\tat org.apache.hadoop.ipc.Server$RpcCall.run(Server.java:814)\n",
      "\tat java.security.AccessController.doPrivileged(Native Method)\n",
      "\tat javax.security.auth.Subject.doAs(Subject.java:422)\n",
      "\tat org.apache.hadoop.security.UserGroupInformation.doAs(UserGroupInformation.java:1821)\n",
      "\tat org.apache.hadoop.ipc.Server$Handler.run(Server.java:2900)\n",
      "\n",
      "\tat org.apache.hadoop.ipc.Client.getRpcResponse(Client.java:1523)\n",
      "\tat org.apache.hadoop.ipc.Client.call(Client.java:1469)\n",
      "\tat org.apache.hadoop.ipc.Client.call(Client.java:1379)\n",
      "\tat org.apache.hadoop.ipc.ProtobufRpcEngine$Invoker.invoke(ProtobufRpcEngine.java:228)\n",
      "\tat org.apache.hadoop.ipc.ProtobufRpcEngine$Invoker.invoke(ProtobufRpcEngine.java:116)\n",
      "\tat com.sun.proxy.$Proxy9.delete(Unknown Source)\n",
      "\tat org.apache.hadoop.hdfs.protocolPB.ClientNamenodeProtocolTranslatorPB.delete(ClientNamenodeProtocolTranslatorPB.java:639)\n",
      "\tat sun.reflect.NativeMethodAccessorImpl.invoke0(Native Method)\n",
      "\tat sun.reflect.NativeMethodAccessorImpl.invoke(NativeMethodAccessorImpl.java:62)\n",
      "\tat sun.reflect.DelegatingMethodAccessorImpl.invoke(DelegatingMethodAccessorImpl.java:43)\n",
      "\tat java.lang.reflect.Method.invoke(Method.java:498)\n",
      "\tat org.apache.hadoop.io.retry.RetryInvocationHandler.invokeMethod(RetryInvocationHandler.java:430)\n",
      "\tat org.apache.hadoop.io.retry.RetryInvocationHandler$Call.invokeMethod(RetryInvocationHandler.java:171)\n",
      "\tat org.apache.hadoop.io.retry.RetryInvocationHandler$Call.invoke(RetryInvocationHandler.java:163)\n",
      "\tat org.apache.hadoop.io.retry.RetryInvocationHandler$Call.invokeOnce(RetryInvocationHandler.java:101)\n",
      "\tat org.apache.hadoop.io.retry.RetryInvocationHandler.invoke(RetryInvocationHandler.java:367)\n",
      "\tat com.sun.proxy.$Proxy10.delete(Unknown Source)\n",
      "\tat org.apache.hadoop.hdfs.DFSClient.delete(DFSClient.java:1665)\n",
      "\tat org.apache.hadoop.hdfs.DistributedFileSystem$14.doCall(DistributedFileSystem.java:792)\n",
      "\tat org.apache.hadoop.hdfs.DistributedFileSystem$14.doCall(DistributedFileSystem.java:788)\n",
      "\tat org.apache.hadoop.fs.FileSystemLinkResolver.resolve(FileSystemLinkResolver.java:81)\n",
      "\tat org.apache.hadoop.hdfs.DistributedFileSystem.delete(DistributedFileSystem.java:799)\n",
      "\tat org.apache.hadoop.mapreduce.lib.output.FileOutputCommitter.cleanupJob(FileOutputCommitter.java:521)\n",
      "\tat org.apache.hadoop.mapreduce.lib.output.FileOutputCommitter.abortJob(FileOutputCommitter.java:540)\n",
      "\tat org.apache.spark.internal.io.HadoopMapReduceCommitProtocol.abortJob(HadoopMapReduceCommitProtocol.scala:209)\n",
      "\tat org.apache.spark.sql.execution.datasources.FileFormatWriter$.write(FileFormatWriter.scala:197)\n",
      "\tat org.apache.spark.sql.execution.datasources.InsertIntoHadoopFsRelationCommand.run(InsertIntoHadoopFsRelationCommand.scala:159)\n",
      "\tat org.apache.spark.sql.execution.command.DataWritingCommandExec.sideEffectResult$lzycompute(commands.scala:104)\n",
      "\tat org.apache.spark.sql.execution.command.DataWritingCommandExec.sideEffectResult(commands.scala:102)\n",
      "\tat org.apache.spark.sql.execution.command.DataWritingCommandExec.doExecute(commands.scala:122)\n",
      "\tat org.apache.spark.sql.execution.SparkPlan$$anonfun$execute$1.apply(SparkPlan.scala:131)\n",
      "\tat org.apache.spark.sql.execution.SparkPlan$$anonfun$execute$1.apply(SparkPlan.scala:127)\n",
      "\tat org.apache.spark.sql.execution.SparkPlan$$anonfun$executeQuery$1.apply(SparkPlan.scala:155)\n",
      "\tat org.apache.spark.rdd.RDDOperationScope$.withScope(RDDOperationScope.scala:151)\n",
      "\tat org.apache.spark.sql.execution.SparkPlan.executeQuery(SparkPlan.scala:152)\n",
      "\tat org.apache.spark.sql.execution.SparkPlan.execute(SparkPlan.scala:127)\n",
      "\tat org.apache.spark.sql.execution.QueryExecution.toRdd$lzycompute(QueryExecution.scala:80)\n",
      "\tat org.apache.spark.sql.execution.QueryExecution.toRdd(QueryExecution.scala:80)\n",
      "\tat org.apache.spark.sql.DataFrameWriter$$anonfun$runCommand$1.apply(DataFrameWriter.scala:676)\n",
      "\tat org.apache.spark.sql.DataFrameWriter$$anonfun$runCommand$1.apply(DataFrameWriter.scala:676)\n",
      "\tat org.apache.spark.sql.execution.SQLExecution$$anonfun$withNewExecutionId$1.apply(SQLExecution.scala:78)\n",
      "\tat org.apache.spark.sql.execution.SQLExecution$.withSQLConfPropagated(SQLExecution.scala:125)\n",
      "\tat org.apache.spark.sql.execution.SQLExecution$.withNewExecutionId(SQLExecution.scala:73)\n",
      "\tat org.apache.spark.sql.DataFrameWriter.runCommand(DataFrameWriter.scala:676)\n",
      "\tat org.apache.spark.sql.DataFrameWriter.saveToV1Source(DataFrameWriter.scala:285)\n",
      "\tat org.apache.spark.sql.DataFrameWriter.save(DataFrameWriter.scala:271)\n",
      "\tat org.apache.spark.sql.DataFrameWriter.save(DataFrameWriter.scala:229)\n",
      "\tat org.apache.spark.sql.DataFrameWriter.parquet(DataFrameWriter.scala:566)\n",
      "\tat sun.reflect.NativeMethodAccessorImpl.invoke0(Native Method)\n",
      "\tat sun.reflect.NativeMethodAccessorImpl.invoke(NativeMethodAccessorImpl.java:62)\n",
      "\tat sun.reflect.DelegatingMethodAccessorImpl.invoke(DelegatingMethodAccessorImpl.java:43)\n",
      "\tat java.lang.reflect.Method.invoke(Method.java:498)\n",
      "\tat py4j.reflection.MethodInvoker.invoke(MethodInvoker.java:244)\n",
      "\tat py4j.reflection.ReflectionEngine.invoke(ReflectionEngine.java:357)\n",
      "\tat py4j.Gateway.invoke(Gateway.java:282)\n",
      "\tat py4j.commands.AbstractCommand.invokeMethod(AbstractCommand.java:132)\n",
      "\tat py4j.commands.CallCommand.execute(CallCommand.java:79)\n",
      "\tat py4j.GatewayConnection.run(GatewayConnection.java:238)\n",
      "\tat java.lang.Thread.run(Thread.java:748)\n",
      "\n",
      "\n"
     ]
    }
   ],
   "source": [
    "fg2_eng.repartition(\"id_squared\").write.partitionBy(\"id_squared\").parquet(hdfs.project_path() + \"Resources/id_squared.parquet\")"
   ]
  },
  {
   "cell_type": "code",
   "execution_count": null,
   "metadata": {},
   "outputs": [],
   "source": []
  }
 ],
 "metadata": {
  "kernelspec": {
   "display_name": "PySpark",
   "language": "python",
   "name": "pysparkkernel"
  },
  "language_info": {
   "codemirror_mode": {
    "name": "python",
    "version": 3
   },
   "mimetype": "text/x-python",
   "name": "pyspark",
   "pygments_lexer": "python3"
  }
 },
 "nbformat": 4,
 "nbformat_minor": 4
}